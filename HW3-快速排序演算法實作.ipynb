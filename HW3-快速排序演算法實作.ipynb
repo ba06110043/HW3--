{
 "cells": [
  {
   "cell_type": "code",
   "execution_count": 4,
   "id": "d2b0b189",
   "metadata": {},
   "outputs": [
    {
     "name": "stdout",
     "output_type": "stream",
     "text": [
      "[33, 8, 67, 13, 54, 119, 3, 84, 25, 41]\n",
      "[33, 8, 13, 67, 54, 119, 3, 84, 25, 41]\n",
      "[33, 8, 13, 54, 67, 119, 3, 84, 25, 41]\n",
      "[33, 8, 13, 54, 67, 3, 119, 84, 25, 41]\n",
      "[33, 8, 13, 54, 67, 3, 84, 119, 25, 41]\n",
      "[33, 8, 13, 54, 67, 3, 84, 25, 119, 41]\n",
      "[33, 8, 13, 54, 67, 3, 84, 25, 41, 119]\n",
      "[8, 33, 13, 54, 67, 3, 84, 25, 41, 119]\n",
      "[8, 13, 33, 54, 67, 3, 84, 25, 41, 119]\n",
      "[8, 13, 33, 54, 3, 67, 84, 25, 41, 119]\n",
      "[8, 13, 33, 54, 3, 67, 25, 84, 41, 119]\n",
      "[8, 13, 33, 54, 3, 67, 25, 41, 84, 119]\n",
      "[8, 13, 33, 3, 54, 67, 25, 41, 84, 119]\n",
      "[8, 13, 33, 3, 54, 25, 67, 41, 84, 119]\n",
      "[8, 13, 33, 3, 54, 25, 41, 67, 84, 119]\n",
      "[8, 13, 3, 33, 54, 25, 41, 67, 84, 119]\n",
      "[8, 13, 3, 33, 25, 54, 41, 67, 84, 119]\n",
      "[8, 13, 3, 33, 25, 41, 54, 67, 84, 119]\n",
      "[8, 3, 13, 33, 25, 41, 54, 67, 84, 119]\n",
      "[8, 3, 13, 25, 33, 41, 54, 67, 84, 119]\n",
      "[3, 8, 13, 25, 33, 41, 54, 67, 84, 119]\n"
     ]
    }
   ],
   "source": [
    "demo1=[33,67,8,13,54,119,3,84,25,41]\n",
    "\n",
    "number = len(demo1)\n",
    "\n",
    "min_valueba = min(demo1)\n",
    "\n",
    "for num in demo1:\n",
    "    if demo1[0] != min_valueba:\n",
    "        for n in range(0,number-1):\n",
    "            if demo1[n] > demo1[n + 1]:\n",
    "                demo1[n], demo1[n + 1] = demo1[n + 1], demo1[n]\n",
    "                print(demo1)\n"
   ]
  },
  {
   "cell_type": "code",
   "execution_count": null,
   "id": "f3d1b5c1",
   "metadata": {},
   "outputs": [],
   "source": []
  }
 ],
 "metadata": {
  "kernelspec": {
   "display_name": "Python 3 (ipykernel)",
   "language": "python",
   "name": "python3"
  },
  "language_info": {
   "codemirror_mode": {
    "name": "ipython",
    "version": 3
   },
   "file_extension": ".py",
   "mimetype": "text/x-python",
   "name": "python",
   "nbconvert_exporter": "python",
   "pygments_lexer": "ipython3",
   "version": "3.9.12"
  }
 },
 "nbformat": 4,
 "nbformat_minor": 5
}
